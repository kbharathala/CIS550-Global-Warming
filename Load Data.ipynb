{
 "cells": [
  {
   "cell_type": "code",
   "execution_count": 2,
   "metadata": {
    "collapsed": true
   },
   "outputs": [],
   "source": [
    "import pymysql\n",
    "import pandas as pd"
   ]
  },
  {
   "cell_type": "code",
   "execution_count": 5,
   "metadata": {
    "collapsed": true
   },
   "outputs": [],
   "source": [
    "countries_forms = pd.read_csv('countries_forms.csv')"
   ]
  },
  {
   "cell_type": "code",
   "execution_count": 61,
   "metadata": {
    "collapsed": false,
    "scrolled": false
   },
   "outputs": [
    {
     "data": {
      "text/plain": [
       "Index([u'Country', u'Year', u'Electricity source', u'Biomass', u'Coal',\n",
       "       u'Natural Gas', u'Geothermal', u'Hydro', u'Nuclear', u'Oil', u'Solar',\n",
       "       u'Wind'],\n",
       "      dtype='object')"
      ]
     },
     "execution_count": 61,
     "metadata": {},
     "output_type": "execute_result"
    }
   ],
   "source": [
    "countries_forms.columns"
   ]
  },
  {
   "cell_type": "code",
   "execution_count": 60,
   "metadata": {
    "collapsed": false
   },
   "outputs": [],
   "source": [
    "countries_forms.rename(index=str, columns={'Biomass and Waste': 'Biomass', 'Gas': 'Natural Gas', 'Hydroelectric': 'Hydro', 'Solar Tide Wave': 'Solar'}, inplace=True)"
   ]
  },
  {
   "cell_type": "code",
   "execution_count": 62,
   "metadata": {
    "collapsed": true
   },
   "outputs": [],
   "source": [
    "energy_forms = ['Natural Gas', 'Biomass', 'Coal', 'Geothermal', 'Hydro', 'Nuclear', 'Oil', 'Solar', 'Wind']"
   ]
  },
  {
   "cell_type": "code",
   "execution_count": 57,
   "metadata": {
    "collapsed": false
   },
   "outputs": [
    {
     "data": {
      "text/plain": [
       "0.579999983"
      ]
     },
     "execution_count": 57,
     "metadata": {},
     "output_type": "execute_result"
    }
   ],
   "source": [
    "a = 0 if countries_forms.iloc[0]['Hydroelectric'] == '-' else float(countries_forms.iloc[0]['Hydroelectric'])\n",
    "a"
   ]
  },
  {
   "cell_type": "code",
   "execution_count": 23,
   "metadata": {
    "collapsed": false
   },
   "outputs": [],
   "source": [
    "connection = pymysql.connect(host='proj1.ci4g2wbj7lrc.us-west-2.rds.amazonaws.com', user='rip_us', password='abdu9000', db='proj', charset='utf8mb4', cursorclass=pymysql.cursors.DictCursor)"
   ]
  },
  {
   "cell_type": "code",
   "execution_count": 28,
   "metadata": {
    "collapsed": true
   },
   "outputs": [],
   "source": [
    "res = None\n",
    "with connection.cursor() as cursor:\n",
    "    sql = 'Select * from Form'\n",
    "    cursor.execute(sql)\n",
    "    res = cursor.fetchall()"
   ]
  },
  {
   "cell_type": "code",
   "execution_count": 35,
   "metadata": {
    "collapsed": false
   },
   "outputs": [],
   "source": [
    "with connection.cursor() as cursor:\n",
    "    sql = 'CREATE TABLE Country (Name varchar(255), Description varchar(1000), LandArea real, Primary Key (Name))'\n",
    "    cursor.execute(sql)"
   ]
  },
  {
   "cell_type": "code",
   "execution_count": 38,
   "metadata": {
    "collapsed": false
   },
   "outputs": [
    {
     "name": "stderr",
     "output_type": "stream",
     "text": [
      "/Users/sanjays1/anaconda2/lib/python2.7/site-packages/pymysql/cursors.py:323: Warning: (1300, u\"Invalid utf8mb4 character string: '997465'\")\n",
      "  self._do_get_result()\n",
      "/Users/sanjays1/anaconda2/lib/python2.7/site-packages/pymysql/cursors.py:323: Warning: (1366, u\"Incorrect string value: '\\\\x99te d'...' for column 'Name' at row 1\")\n",
      "  self._do_get_result()\n",
      "/Users/sanjays1/anaconda2/lib/python2.7/site-packages/pymysql/cursors.py:323: Warning: (1300, u\"Invalid utf8mb4 character string: '8E756E'\")\n",
      "  self._do_get_result()\n",
      "/Users/sanjays1/anaconda2/lib/python2.7/site-packages/pymysql/cursors.py:323: Warning: (1366, u\"Incorrect string value: '\\\\x8Eunion' for column 'Name' at row 1\")\n",
      "  self._do_get_result()\n"
     ]
    }
   ],
   "source": [
    "with connection.cursor() as cursor:\n",
    "    for c in countries_forms['Country']:\n",
    "        sql = 'INSERT INTO Country(Name, Description, LandArea) VALUES (\\\"' + c + '\\\", NULL, NULL)'\n",
    "        cursor.execute(sql)"
   ]
  },
  {
   "cell_type": "code",
   "execution_count": 43,
   "metadata": {
    "collapsed": false
   },
   "outputs": [],
   "source": [
    "with connection.cursor() as cursor:\n",
    "    sql = 'CREATE TABLE Uses (cname varchar(255), fname varchar(255), percent_usage real, PRIMARY KEY (cname,fname), FOREIGN KEY (cname) REFERENCES Country(Name), FOREIGN KEY (fname) REFERENCES Form(Name))'\n",
    "    cursor.execute(sql)"
   ]
  },
  {
   "cell_type": "code",
   "execution_count": 65,
   "metadata": {
    "collapsed": false
   },
   "outputs": [
    {
     "name": "stderr",
     "output_type": "stream",
     "text": [
      "/Users/sanjays1/anaconda2/lib/python2.7/site-packages/pymysql/cursors.py:323: Warning: (1366, u\"Incorrect string value: '\\\\x99te d'...' for column 'cname' at row 1\")\n",
      "  self._do_get_result()\n",
      "/Users/sanjays1/anaconda2/lib/python2.7/site-packages/pymysql/cursors.py:323: Warning: (1366, u\"Incorrect string value: '\\\\x8Eunion' for column 'cname' at row 1\")\n",
      "  self._do_get_result()\n"
     ]
    }
   ],
   "source": [
    "with connection.cursor() as cursor:\n",
    "    for i in range(len(countries_forms)):\n",
    "        usages = {f: 0.0 for f in energy_forms}\n",
    "        total = 0.0\n",
    "        for col in energy_forms:\n",
    "            entry = countries_forms.iloc[i][col]\n",
    "            usages[col] = 0. if entry == '-' else float(entry)\n",
    "            total += usages[col]\n",
    "        if total > 0:\n",
    "            for f in energy_forms:\n",
    "                usages[f] /= total\n",
    "                if usages[f] > 0:\n",
    "                    sql = 'INSERT INTO Uses(cname, fname, percent_usage) VALUES (\\\"' + countries_forms.iloc[i]['Country'] + '\\\", \\\"' + f + '\\\", ' + str(usages[f]) + ')'\n",
    "                    cursor.execute(sql)"
   ]
  },
  {
   "cell_type": "code",
   "execution_count": 66,
   "metadata": {
    "collapsed": true
   },
   "outputs": [],
   "source": [
    "connection.commit()"
   ]
  },
  {
   "cell_type": "code",
   "execution_count": null,
   "metadata": {
    "collapsed": true
   },
   "outputs": [],
   "source": []
  }
 ],
 "metadata": {
  "anaconda-cloud": {},
  "kernelspec": {
   "display_name": "Python [Root]",
   "language": "python",
   "name": "Python [Root]"
  },
  "language_info": {
   "codemirror_mode": {
    "name": "ipython",
    "version": 2
   },
   "file_extension": ".py",
   "mimetype": "text/x-python",
   "name": "python",
   "nbconvert_exporter": "python",
   "pygments_lexer": "ipython2",
   "version": "2.7.12"
  }
 },
 "nbformat": 4,
 "nbformat_minor": 0
}
